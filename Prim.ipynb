{
  "nbformat": 4,
  "nbformat_minor": 0,
  "metadata": {
    "colab": {
      "name": "Prim.ipynb",
      "version": "0.3.2",
      "provenance": [],
      "collapsed_sections": [],
      "include_colab_link": true
    },
    "kernelspec": {
      "name": "python3",
      "display_name": "Python 3"
    }
  },
  "cells": [
    {
      "cell_type": "markdown",
      "metadata": {
        "id": "view-in-github",
        "colab_type": "text"
      },
      "source": [
        "<a href=\"https://colab.research.google.com/github/mohan-aditya05/competitive_programming/blob/master/Prim.ipynb\" target=\"_parent\"><img src=\"https://colab.research.google.com/assets/colab-badge.svg\" alt=\"Open In Colab\"/></a>"
      ]
    },
    {
      "metadata": {
        "id": "YydwCB_F5Zfi",
        "colab_type": "code",
        "colab": {}
      },
      "cell_type": "code",
      "source": [
        "# adj_matrix=[[0,4,0,0,0,0,0,8,0],[4,0,8,0,0,0,0,11,0],[8,0,0,7,0,4,0,0,2],[0,0,7,0,9,14,0,0,0],[0,0,0,9,0,10,0,0,0],[0,0,4,14,10,0,2,0,0],[0,0,0,0,0,2,0,1,6],[8,11,0,0,0,0,1,0,7],[0,0,2,0,0,0,6,7,0]]"
      ],
      "execution_count": 0,
      "outputs": []
    },
    {
      "metadata": {
        "id": "wS6saFZX7U1z",
        "colab_type": "code",
        "colab": {}
      },
      "cell_type": "code",
      "source": [
        ""
      ],
      "execution_count": 0,
      "outputs": []
    },
    {
      "metadata": {
        "id": "Tod-QK3h7g1Q",
        "colab_type": "code",
        "colab": {}
      },
      "cell_type": "code",
      "source": [
        "# import math\n",
        "# for i in range(len(adj_matrix[0])):\n",
        "#   if i==0:\n",
        "#     key_values[i]=0\n",
        "#   else:\n",
        "#     key_values[i]=math.inf"
      ],
      "execution_count": 0,
      "outputs": []
    },
    {
      "metadata": {
        "id": "9SyFge6k7--P",
        "colab_type": "code",
        "colab": {}
      },
      "cell_type": "code",
      "source": [
        "# def min_key1(root):\n",
        "#   for key in key_values:\n",
        "#     if key!=root:\n",
        "#       min=key_values[0]\n",
        "#       min_key=0\n",
        "#       if key_values[key]<=min:\n",
        "#         min_key=key\n",
        "    \n",
        "#       return min_key"
      ],
      "execution_count": 0,
      "outputs": []
    },
    {
      "metadata": {
        "id": "aFBn_8G3_TQe",
        "colab_type": "code",
        "colab": {}
      },
      "cell_type": "code",
      "source": [
        "adj_matrix=[[0,4,0,0,0,0,0,8,0],[4,0,8,0,0,0,0,11,0],[8,0,0,7,0,4,0,0,2],[0,0,7,0,9,14,0,0,0],[0,0,0,9,0,10,0,0,0],[0,0,4,14,10,0,2,0,0],[0,0,0,0,0,2,0,1,6],[8,11,0,0,0,0,1,0,7],[0,0,2,0,0,0,6,7,0]]\n",
        "key_values=dict()\n",
        "mstSet=list()\n",
        "import math\n",
        "for i in range(len(adj_matrix[0])):\n",
        "  if i==0:\n",
        "    key_values[i]=0\n",
        "  else:\n",
        "    key_values[i]=math.inf\n",
        "def min_key1(root):\n",
        "  i=0\n",
        "  for key in key_values:\n",
        "    if key not in mstSet:\n",
        "      if i==0:\n",
        "        min_v=key_values[key]\n",
        "        min_key=key\n",
        "        i=i+1\n",
        "      if key_values[key]<=min_v:\n",
        "        min_v=key_values[key]\n",
        "        min_key=key\n",
        "    \n",
        "  return min_key\n",
        "root=-1\n",
        "def mst():\n",
        "  global root\n",
        "#    print(root)\n",
        "  key=min_key1(root)\n",
        "  print(key)\n",
        "  mstSet.append(key)\n",
        "  temp=adj_matrix[key]\n",
        "  i=0\n",
        "  for w in temp:\n",
        "    if w!=0:\n",
        "      if (key_values[i]>=w) & (i not in mstSet):\n",
        "        key_values[i]=w\n",
        "    i=i+1\n",
        "  root=key"
      ],
      "execution_count": 0,
      "outputs": []
    },
    {
      "metadata": {
        "id": "xer55Kgp_Uen",
        "colab_type": "code",
        "outputId": "a889d5c5-62a3-4443-bb9c-31439802c6fa",
        "colab": {
          "base_uri": "https://localhost:8080/",
          "height": 170
        }
      },
      "cell_type": "code",
      "source": [
        "for i in range(len(adj_matrix[0])):\n",
        "  mst()"
      ],
      "execution_count": 26,
      "outputs": [
        {
          "output_type": "stream",
          "text": [
            "0\n",
            "1\n",
            "7\n",
            "6\n",
            "5\n",
            "2\n",
            "8\n",
            "3\n",
            "4\n"
          ],
          "name": "stdout"
        }
      ]
    },
    {
      "metadata": {
        "id": "Sbr11iDgDPaj",
        "colab_type": "code",
        "outputId": "67831826-5a0e-4269-dc36-3e790199185c",
        "colab": {
          "base_uri": "https://localhost:8080/",
          "height": 34
        }
      },
      "cell_type": "code",
      "source": [
        "key_values"
      ],
      "execution_count": 27,
      "outputs": [
        {
          "output_type": "execute_result",
          "data": {
            "text/plain": [
              "{0: 0, 1: 4, 2: 4, 3: 7, 4: 9, 5: 2, 6: 1, 7: 8, 8: 2}"
            ]
          },
          "metadata": {
            "tags": []
          },
          "execution_count": 27
        }
      ]
    },
    {
      "metadata": {
        "id": "bC9MrItcDWDo",
        "colab_type": "code",
        "outputId": "c920e0d6-8f40-4846-d13b-c3e29b26eadd",
        "colab": {
          "base_uri": "https://localhost:8080/",
          "height": 34
        }
      },
      "cell_type": "code",
      "source": [
        "mstSet"
      ],
      "execution_count": 24,
      "outputs": [
        {
          "output_type": "execute_result",
          "data": {
            "text/plain": [
              "[0, 1, 7, 6, 5, 2, 8, 3, 4]"
            ]
          },
          "metadata": {
            "tags": []
          },
          "execution_count": 24
        }
      ]
    },
    {
      "metadata": {
        "id": "y9_vz23zDb0g",
        "colab_type": "code",
        "colab": {
          "base_uri": "https://localhost:8080/",
          "height": 153
        },
        "outputId": "f0e6e170-3bb0-4015-f034-09512118b264"
      },
      "cell_type": "code",
      "source": [
        "for key in key_values:\n",
        "  if key!=0:\n",
        "    for i in range(len(adj_matrix[0])):\n",
        "      if adj_matrix[i][key]==key_values[key]:\n",
        "        print(\"{}--{}\".format(i,key))"
      ],
      "execution_count": 34,
      "outputs": [
        {
          "output_type": "stream",
          "text": [
            "0--1\n",
            "5--2\n",
            "2--3\n",
            "3--4\n",
            "6--5\n",
            "7--6\n",
            "0--7\n",
            "2--8\n"
          ],
          "name": "stdout"
        }
      ]
    },
    {
      "metadata": {
        "id": "w8F6YJyDFOV-",
        "colab_type": "code",
        "colab": {}
      },
      "cell_type": "code",
      "source": [
        ""
      ],
      "execution_count": 0,
      "outputs": []
    }
  ]
}